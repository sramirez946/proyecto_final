{
  "cells": [
    {
      "cell_type": "code",
      "execution_count": null,
      "metadata": {
        "colab": {
          "base_uri": "https://localhost:8080/"
        },
        "id": "eSRZlqicnKaJ",
        "outputId": "875cbca7-a29e-4160-f8c4-862729668a4f"
      },
      "outputs": [
        {
          "output_type": "stream",
          "name": "stdout",
          "text": [
            "Ingrese su salario: \n",
            "1300000\n",
            "Ingrese su gasto mensual en alimentos: \n",
            "750000\n",
            "El porcentaje del gasto es de:  5500.0 %\n"
          ]
        }
      ],
      "source": [
        "#salario Marzo 2024 en base a una familia de 3\n",
        "print(\"Ingrese su salario: \")\n",
        "salario = float(input())\n",
        "print(\"Ingrese su gasto mensual en alimentos: \")\n",
        "gasto = float(input())\n",
        "porcentaje = salario % gasto / 100\n",
        "print(\"El porcentaje del gasto es de: \", porcentaje, \"%\")\n",
        "\n",
        "\n"
      ]
    },
    {
      "cell_type": "code",
      "execution_count": null,
      "metadata": {
        "colab": {
          "base_uri": "https://localhost:8080/"
        },
        "id": "01euVXie1P84",
        "outputId": "7129e367-05e0-414d-89ff-3e29144b7f50"
      },
      "outputs": [
        {
          "name": "stdout",
          "output_type": "stream",
          "text": [
            "Ingrese su salario: \n",
            "1000000\n",
            "Ingrese su gasto mensual en alimentos: \n",
            "750000\n",
            "El porcentaje disponible es de:  2500.0 %\n"
          ]
        }
      ],
      "source": [
        "#salario Marzo 2022 en base a una familia de 3\n",
        "print(\"Ingrese su salario: \")\n",
        "salario = float(input())\n",
        "print(\"Ingrese su gasto mensual en alimentos: \")\n",
        "gasto = float(input())\n",
        "porcentaje = salario % gasto / 100\n",
        "print(\"El porcentaje disponible es de: \", porcentaje, \"%\")\n"
      ]
    },
    {
      "cell_type": "code",
      "execution_count": null,
      "metadata": {
        "colab": {
          "base_uri": "https://localhost:8080/"
        },
        "id": "f5roJ1Gg1n1v",
        "outputId": "567c5928-ea84-42df-f3ce-9ebe18a88de2"
      },
      "outputs": [
        {
          "name": "stdout",
          "output_type": "stream",
          "text": [
            "Ingrese su salario: \n",
            "2000000\n",
            "Ingrese su gasto mensual en alimentos: \n",
            "750000\n",
            "El porcentaje del gasto es de:  5000.0 %\n"
          ]
        }
      ],
      "source": [
        "#salario Marzo 2024 en base a una familia de 3 con ganancias superiores al salario minimo\n",
        "print(\"Ingrese su salario: \")\n",
        "salario = float(input())\n",
        "print(\"Ingrese su gasto mensual en alimentos: \")\n",
        "gasto = float(input())\n",
        "porcentaje = salario % gasto / 100\n",
        "print(\"El porcentaje del gasto es de: \", porcentaje, \"%\")\n"
      ]
    },
    {
      "cell_type": "code",
      "execution_count": null,
      "metadata": {
        "colab": {
          "base_uri": "https://localhost:8080/"
        },
        "id": "Ei2Z3syL3Vzj",
        "outputId": "c876fe65-f1cb-4feb-a77c-0918988bf9b4"
      },
      "outputs": [
        {
          "name": "stdout",
          "output_type": "stream",
          "text": [
            "Ingrese su salario: \n",
            "3000000\n",
            "Ingrese su gasto mensual en alimentos: \n",
            "750000\n",
            "El porcentaje disponible es de:  0.0 %\n"
          ]
        }
      ],
      "source": [
        "#salario Marzo 2022 en base a una familia de 3 con ganacias superiores al salario minimo\n",
        "print(\"Ingrese su salario: \")\n",
        "salario = float(input())\n",
        "print(\"Ingrese su gasto mensual en alimentos: \")\n",
        "gasto = float(input())\n",
        "porcentaje = salario % gasto / 100\n",
        "print(\"El porcentaje disponible es de: \", porcentaje, \"%\")\n",
        "\n",
        "\n"
      ]
    },
    {
      "cell_type": "code",
      "execution_count": null,
      "metadata": {
        "id": "r8Pi9s-b48eL"
      },
      "outputs": [],
      "source": [
        "import numpy as np\n",
        "import pandas as pd\n",
        "import matplotlib.pyplot as plt"
      ]
    },
    {
      "cell_type": "code",
      "execution_count": null,
      "metadata": {
        "id": "88xu0qoymZls"
      },
      "outputs": [],
      "source": []
    }
  ],
  "metadata": {
    "colab": {
      "provenance": []
    },
    "kernelspec": {
      "display_name": "Python 3",
      "name": "python3"
    },
    "language_info": {
      "name": "python"
    }
  },
  "nbformat": 4,
  "nbformat_minor": 0
}